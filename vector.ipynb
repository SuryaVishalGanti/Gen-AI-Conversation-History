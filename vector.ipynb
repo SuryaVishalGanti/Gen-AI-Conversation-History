{
 "cells": [
  {
   "cell_type": "markdown",
   "metadata": {},
   "source": [
    "### <center>**Working with Vector stores and Retrievers</centers>**\n",
    "#### 06-02-2025"
   ]
  },
  {
   "cell_type": "markdown",
   "metadata": {},
   "source": [
    "## These are designed to support retreival of data from vectors \n",
    "#### They are important for applications that fetch data to be reasoned over as part of model inference, as in the case of retrieval-augmented generation.\n",
    "### We will cover\n",
    "- Documents\n",
    "\n",
    "- Vector stores\n",
    "\n",
    "- Retrievers"
   ]
  },
  {
   "cell_type": "markdown",
   "metadata": {},
   "source": [
    "### Documents\n",
    "LangChain implements a Document abstraction, which is intended to represent a unit of text and associated metadata. It has two attributes:\n",
    "\n",
    "- page_content: a string representing the content.\n",
    "- metadata: a dict containing arbitrary metadata.\n",
    "The metadata attribute can capture information about the source of the document, its relationship to other documents, and other information. Note that an individual Document object often represents a chunk of a larger document.\n",
    "\n",
    "Let's generate some sample documents:"
   ]
  },
  {
   "cell_type": "code",
   "execution_count": 30,
   "metadata": {},
   "outputs": [],
   "source": [
    "from langchain_core.documents import Document\n",
    "\n",
    "document = [\n",
    "    Document(\n",
    "        page_content=\"Dogs are th great companions, known for their loyalty and friendliness.\",\n",
    "        metadata = {\"source\":\"mammel-pets-doc\"},\n",
    "    ),\n",
    "    Document(\n",
    "        page_content=\"Cats are independent pets that often enjoy their own space.\",\n",
    "        metadata={\"source\":\"mammel-pets-doc\"},\n",
    "    ),\n",
    "    Document(\n",
    "        page_content=\"Goldfish are popular pets for beginners, requiring relativly simple care.\",\n",
    "        metadata = {\"source\":\"mammel-pets-doc\"}\n",
    "    ),\n",
    "    Document(\n",
    "        page_content=\"Parrots are intelligent birrds capable of mimicking Human Speech.\",\n",
    "        metadata={\"source\": \"mammal-pets-doc\"},\n",
    "    ),\n",
    "    Document(\n",
    "        page_content=\"Rabbits are scocial animals that need plenty of space to hop around\",\n",
    "        metadata={\"source\": \"mammal-pets-doc\"},\n",
    "    )\n",
    "]"
   ]
  },
  {
   "cell_type": "code",
   "execution_count": 31,
   "metadata": {},
   "outputs": [
    {
     "data": {
      "text/plain": [
       "[Document(metadata={'source': 'mammel-pets-doc'}, page_content='Dogs are th great companions, known for their loyalty and friendliness.'),\n",
       " Document(metadata={'source': 'mammel-pets-doc'}, page_content='Cats are independent pets that often enjoy their own space.'),\n",
       " Document(metadata={'source': 'mammel-pets-doc'}, page_content='Goldfish are popular pets for beginners, requiring relativly simple care.'),\n",
       " Document(metadata={'source': 'mammal-pets-doc'}, page_content='Parrots are intelligent birrds capable of mimicking Human Speech.'),\n",
       " Document(metadata={'source': 'mammal-pets-doc'}, page_content='Rabbits are scocial animals that need plenty of space to hop around')]"
      ]
     },
     "execution_count": 31,
     "metadata": {},
     "output_type": "execute_result"
    }
   ],
   "source": [
    "document"
   ]
  },
  {
   "cell_type": "code",
   "execution_count": 32,
   "metadata": {},
   "outputs": [
    {
     "data": {
      "text/plain": [
       "ChatGroq(client=<groq.resources.chat.completions.Completions object at 0x35fcdbe20>, async_client=<groq.resources.chat.completions.AsyncCompletions object at 0x35fd75210>, model_name='llama-3.3-70b-specdec', model_kwargs={}, groq_api_key=SecretStr('**********'))"
      ]
     },
     "execution_count": 32,
     "metadata": {},
     "output_type": "execute_result"
    }
   ],
   "source": [
    "import os\n",
    "from dotenv import load_dotenv\n",
    "load_dotenv()\n",
    "from langchain_groq import ChatGroq\n",
    "groq_api_key=os.getenv(\"GROQ_API_KEY\")\n",
    "\n",
    "os.environ[\"HF_TOKEN\"] = os.getenv(\"HF_TOKEN\")\n",
    "\n",
    "llm=ChatGroq(groq_api_key=groq_api_key,model=\"llama-3.3-70b-specdec\")\n",
    "llm"
   ]
  },
  {
   "cell_type": "code",
   "execution_count": 33,
   "metadata": {},
   "outputs": [],
   "source": [
    "from langchain.embeddings import HuggingFaceEmbeddings\n",
    "# Here we are using \"all-MiniLM-L6-v2\" because sentence embedding model that can be used for tasks like semantic search, clustering, and information retrieval \n",
    "embeddings = HuggingFaceEmbeddings(model_name=\"sentence-transformers/all-MiniLM-L6-v2\")"
   ]
  },
  {
   "cell_type": "code",
   "execution_count": 34,
   "metadata": {},
   "outputs": [
    {
     "data": {
      "text/plain": [
       "<langchain_chroma.vectorstores.Chroma at 0x35fbbb010>"
      ]
     },
     "execution_count": 34,
     "metadata": {},
     "output_type": "execute_result"
    }
   ],
   "source": [
    "## VectorStores\n",
    "from langchain_chroma import Chroma\n",
    "vectorstore = Chroma.from_documents(document, embedding=embeddings)\n",
    "vectorstore"
   ]
  },
  {
   "cell_type": "code",
   "execution_count": 35,
   "metadata": {},
   "outputs": [
    {
     "data": {
      "text/plain": [
       "[Document(id='41af352c-7693-44b5-a192-50baf506f7a3', metadata={'source': 'mammel-pets-doc'}, page_content='Cats are independent pets that often enjoy their own space.'),\n",
       " Document(id='130f89f3-b8f7-4571-9e74-5b58917f2bd4', metadata={'source': 'mammel-pets-doc'}, page_content='Cats are independent pets that often enjoy their own space.'),\n",
       " Document(id='8224cf44-8615-44fe-90a8-21898d00388a', metadata={'source': 'mammel-pets-doc'}, page_content='Dogs are th great companions, known for their loyalty and friendliness.'),\n",
       " Document(id='fa0313bc-f71c-42db-94f2-8779f47afd6f', metadata={'source': 'mammel-pets-doc'}, page_content='Dogs are th great companions, known for their loyalty and friendliness.')]"
      ]
     },
     "execution_count": 35,
     "metadata": {},
     "output_type": "execute_result"
    }
   ],
   "source": [
    "## with the help of vectors\n",
    "vectorstore.similarity_search(\"cat\")"
   ]
  },
  {
   "cell_type": "code",
   "execution_count": 36,
   "metadata": {},
   "outputs": [
    {
     "data": {
      "text/plain": [
       "[Document(id='41af352c-7693-44b5-a192-50baf506f7a3', metadata={'source': 'mammel-pets-doc'}, page_content='Cats are independent pets that often enjoy their own space.'),\n",
       " Document(id='130f89f3-b8f7-4571-9e74-5b58917f2bd4', metadata={'source': 'mammel-pets-doc'}, page_content='Cats are independent pets that often enjoy their own space.'),\n",
       " Document(id='8224cf44-8615-44fe-90a8-21898d00388a', metadata={'source': 'mammel-pets-doc'}, page_content='Dogs are th great companions, known for their loyalty and friendliness.'),\n",
       " Document(id='fa0313bc-f71c-42db-94f2-8779f47afd6f', metadata={'source': 'mammel-pets-doc'}, page_content='Dogs are th great companions, known for their loyalty and friendliness.')]"
      ]
     },
     "execution_count": 36,
     "metadata": {},
     "output_type": "execute_result"
    }
   ],
   "source": [
    "## Async Query\n",
    "await vectorstore.asimilarity_search(\"cat\")"
   ]
  },
  {
   "cell_type": "code",
   "execution_count": 37,
   "metadata": {},
   "outputs": [
    {
     "data": {
      "text/plain": [
       "[(Document(id='41af352c-7693-44b5-a192-50baf506f7a3', metadata={'source': 'mammel-pets-doc'}, page_content='Cats are independent pets that often enjoy their own space.'),\n",
       "  0.9351049661636353),\n",
       " (Document(id='130f89f3-b8f7-4571-9e74-5b58917f2bd4', metadata={'source': 'mammel-pets-doc'}, page_content='Cats are independent pets that often enjoy their own space.'),\n",
       "  0.9351049661636353),\n",
       " (Document(id='8224cf44-8615-44fe-90a8-21898d00388a', metadata={'source': 'mammel-pets-doc'}, page_content='Dogs are th great companions, known for their loyalty and friendliness.'),\n",
       "  1.5319287776947021),\n",
       " (Document(id='fa0313bc-f71c-42db-94f2-8779f47afd6f', metadata={'source': 'mammel-pets-doc'}, page_content='Dogs are th great companions, known for their loyalty and friendliness.'),\n",
       "  1.5319287776947021)]"
      ]
     },
     "execution_count": 37,
     "metadata": {},
     "output_type": "execute_result"
    }
   ],
   "source": [
    "## Using Similarity search with score\n",
    "vectorstore.similarity_search_with_score(\"cat\")"
   ]
  },
  {
   "cell_type": "markdown",
   "metadata": {},
   "source": [
    "## Retrievers\n",
    "LangChain VectorStore objects do not subclass Runnable, and so cannot immediately be integrated into LangChain Expression Language chains.\n",
    "LangChain Retrievers are Runnables, so they implement a standard set of methods (e.g., synchronous and asynchronous invoke and batch operations) and are designed to be incorporated in LCEL chains"
   ]
  },
  {
   "cell_type": "code",
   "execution_count": 38,
   "metadata": {},
   "outputs": [
    {
     "data": {
      "text/plain": [
       "[[Document(id='41af352c-7693-44b5-a192-50baf506f7a3', metadata={'source': 'mammel-pets-doc'}, page_content='Cats are independent pets that often enjoy their own space.')],\n",
       " [Document(id='fa0313bc-f71c-42db-94f2-8779f47afd6f', metadata={'source': 'mammel-pets-doc'}, page_content='Dogs are th great companions, known for their loyalty and friendliness.')]]"
      ]
     },
     "execution_count": 38,
     "metadata": {},
     "output_type": "execute_result"
    }
   ],
   "source": [
    "from typing import List\n",
    "\n",
    "from langchain_core.documents import Document\n",
    "from langchain_core.runnables import RunnableLambda\n",
    "\n",
    "retriver= RunnableLambda(vectorstore.similarity_search).bind(k=1)\n",
    "retriver.batch([\"cat\",\"dog\"])"
   ]
  },
  {
   "cell_type": "code",
   "execution_count": null,
   "metadata": {},
   "outputs": [],
   "source": []
  },
  {
   "cell_type": "markdown",
   "metadata": {},
   "source": [
    "Vectorstores implement an as_retriever method that will generate a Retriever, specifically a VectorStoreRetriever. These retrievers include specific search_type and search_kwargs attributes that identify what methods of of the underlying vector store to call, and how to parameterize them. For instance, we can replicate the above with the following:"
   ]
  },
  {
   "cell_type": "code",
   "execution_count": 39,
   "metadata": {},
   "outputs": [
    {
     "data": {
      "text/plain": [
       "[[Document(id='41af352c-7693-44b5-a192-50baf506f7a3', metadata={'source': 'mammel-pets-doc'}, page_content='Cats are independent pets that often enjoy their own space.')],\n",
       " [Document(id='fa0313bc-f71c-42db-94f2-8779f47afd6f', metadata={'source': 'mammel-pets-doc'}, page_content='Dogs are th great companions, known for their loyalty and friendliness.')]]"
      ]
     },
     "execution_count": 39,
     "metadata": {},
     "output_type": "execute_result"
    }
   ],
   "source": [
    "retriver = vectorstore.as_retriever(\n",
    "    search_type=\"similarity\",\n",
    "    search_kwargs={\"k\":1}\n",
    ")\n",
    "\n",
    "retriver.batch([\"cat\",\"dog\"])"
   ]
  },
  {
   "cell_type": "code",
   "execution_count": 42,
   "metadata": {},
   "outputs": [
    {
     "name": "stdout",
     "output_type": "stream",
     "text": [
      "Based on the provided context, here's the information about parrots and some extra content:\n",
      "\n",
      "Parrots are intelligent birds capable of mimicking human speech. They are known for their ability to learn and replicate words, phrases, and even entire conversations. This unique ability makes them popular pets, as they can engage in interactive conversations with their owners.\n",
      "\n",
      "Extra content: Unfortunately, the provided context does not offer more information about parrots beyond their intelligence and ability to mimic human speech. However, it's worth noting that parrots are often colorful, social birds that thrive in flocks and require attention, care, and proper nutrition to live happy and healthy lives.\n"
     ]
    }
   ],
   "source": [
    "from langchain_core.prompts import ChatPromptTemplate\n",
    "from langchain_core.runnables import RunnablePassthrough\n",
    "\n",
    "message = \"\"\"\n",
    "Answer this Question using the provided context only.\n",
    "{question}\n",
    "\n",
    "Context:\n",
    "{context}\n",
    "\"\"\"\n",
    "prompt = ChatPromptTemplate.from_messages([(\"human\", message)])\n",
    "\n",
    "rag_chain = {\"context\":retriver, \"question\": RunnablePassthrough()}|prompt|llm\n",
    "\n",
    "response= rag_chain.invoke(\"tell me about parrot and extra content\")\n",
    "print(response.content)"
   ]
  },
  {
   "cell_type": "code",
   "execution_count": null,
   "metadata": {},
   "outputs": [],
   "source": []
  }
 ],
 "metadata": {
  "kernelspec": {
   "display_name": "venv",
   "language": "python",
   "name": "python3"
  },
  "language_info": {
   "codemirror_mode": {
    "name": "ipython",
    "version": 3
   },
   "file_extension": ".py",
   "mimetype": "text/x-python",
   "name": "python",
   "nbconvert_exporter": "python",
   "pygments_lexer": "ipython3",
   "version": "3.10.0"
  }
 },
 "nbformat": 4,
 "nbformat_minor": 2
}
